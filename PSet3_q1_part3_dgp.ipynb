{
 "cells": [
  {
   "cell_type": "code",
   "execution_count": 1,
   "metadata": {},
   "outputs": [],
   "source": [
    "import numpy as np\n",
    "import pandas as pd\n",
    "import matplotlib.pyplot as plt\n",
    "import scipy.stats as scipy\n",
    "import math\n",
    "\n",
    "from numpy.linalg import inv\n",
    "from scipy.stats import skewnorm"
   ]
  },
  {
   "cell_type": "markdown",
   "metadata": {},
   "source": [
    "# Question1- Part 3\n",
    "## a"
   ]
  },
  {
   "cell_type": "markdown",
   "metadata": {},
   "source": [
    "$ E(y) = \\mu   \\\\\n",
    "E(y-\\mu)^{2} =\\sigma^{2} \\\\\n",
    "E(y-\\mu)^{3}=0 $\n",
    "\n",
    "Task: Write a DGP that takes as arguments a sample size N and a vector of \"true\" parameters, and returns a dataset (y,X).\n",
    "For this model with central moments of a distribution, we are given that:  \n",
    "First moment is $\\mu$, second centered moment is $\\sigma^{2}$ and third centered moment is 0. "
   ]
  },
  {
   "cell_type": "code",
   "execution_count": 2,
   "metadata": {},
   "outputs": [],
   "source": [
    "def dgp_a(true_beta, N):\n",
    "       \n",
    "    # Parameters of interest: mu, sigma \n",
    "    # Here, y is not given in a linear regression, so we can draw it from a distribution. \n",
    "    # We know that E(y) = mu, and y~N(mu, var). Assume mu=0, var=1; then we can draw y from normal distribution. \n",
    "    mu = 0 # first moment \n",
    "    var = 2 # second centered moment\n",
    "    skew = 0 # third centered moment \n",
    "    num_obs = 5000\n",
    "\n",
    "    np.random.seed(123)\n",
    "\n",
    "    # Generate random variable y with specified mean, variance, and third centered moment\n",
    "    y = skewnorm.rvs(a=skew, loc=mu, scale=var**0.5, size=(num_obs,1))\n",
    "    return (y)\n"
   ]
  },
  {
   "cell_type": "markdown",
   "metadata": {},
   "source": [
    "## b\n",
    "$y= \\alpha + X\\beta + u \\\\\n",
    "E(X^{T}u) = Eu = 0 $ \n",
    "\n",
    "Please refer to link in LaTeX document under Question 1- Part 3b"
   ]
  },
  {
   "cell_type": "markdown",
   "metadata": {},
   "source": [
    "## c\n",
    "We add the 2nd moment condition to part b.  \n",
    "$\\alpha$ + X $\\beta$ + u  \n",
    "E($X^{T}u$) = E$u$=0   \n",
    "E($u^{2}$) = $\\sigma^{2}$"
   ]
  },
  {
   "cell_type": "code",
   "execution_count": 3,
   "metadata": {},
   "outputs": [],
   "source": [
    "def dgp_c(true_beta, N):\n",
    "    \n",
    "    beta = np.array(beta).reshape(-1,1)\n",
    "\n",
    "    # E(u)=0 \n",
    "    # E(X^{T}u)=0 \n",
    "    # E(u^2)=sigma^2  \n",
    "\n",
    "    mu=0 ## mu= mean of u =0 (given)\n",
    "    sigma = 5 # assumed\n",
    "    N=1000\n",
    "    k=beta.shape[0]\n",
    "\n",
    "    np.random.seed(123)\n",
    "\n",
    "    # generate U; which has mean 0 and second moment sigma^2 (ie variance is sigma^2)\n",
    "    u = iid.norm.rvs(size=(N,1))*sigma # u is a Nx1 matrix \n",
    "\n",
    "    # now generate X. WKT E(X^{T}u)=0. X should be Nx|parameters| matrix \n",
    "    X= iid.norm.rvs(size=(N,k))\n",
    "    X = np.c_[np.ones(shape = (N,1)), X] # add intercept\n",
    "\n",
    "    mean = np.mean(u)\n",
    "    variance = np.var(u)\n",
    "\n",
    "    # Calculate y\n",
    "    y = true_beta[0] + X*(true_beta[1]) + u\n",
    "\n",
    "    return y,X \n"
   ]
  },
  {
   "cell_type": "markdown",
   "metadata": {},
   "source": [
    "## d\n",
    "Now we add heteroskedasticity to part c.  \n",
    "y= $\\alpha$ + X $\\beta$ + u  \n",
    "E($X^{T}u$) = Eu = 0  \n",
    "E($u^{2}$) = $e^{X\\sigma}$"
   ]
  },
  {
   "cell_type": "code",
   "execution_count": 4,
   "metadata": {},
   "outputs": [],
   "source": [
    "def dgp_d(true_beta, N):\n",
    "\n",
    "    beta = np.array(beta).reshape(-1,1)\n",
    "\n",
    "    # E(u)=0 \n",
    "    # E(X^{T}u)=0 \n",
    "    # E(u^2)=e^(X*sigma) \n",
    "        \n",
    "    mu=0 ## mu= mean of u =0 (given)\n",
    "    sigma = 5 # assumed\n",
    "    N=1000\n",
    "    k=beta.shape[0]\n",
    "\n",
    "    np.random.seed(123)\n",
    "\n",
    "    # now generate X. WKT E(X^{T}u)=0. X should be Nx|parameters| matrix \n",
    "    X= iid.norm.rvs(size=(N,k))\n",
    "    X = np.c_[np.ones(shape = (N,1)), X] # add intercept\n",
    "\n",
    "    # generate U; which has mean 0 and second moment sigma^2 (ie variance is sigma^2)\n",
    "    exponent = X*sigma\n",
    "    hetero = np.exp(exponent)\n",
    "    u = iid.norm.rvs(size=(N,1))*(hetero)  # u is a Nx1 matrix \n",
    "\n",
    "    mean = np.mean(u)\n",
    "    variance = np.var(u)\n",
    "\n",
    "    # Calculate y\n",
    "    y = true_beta[0] + X*(true_beta[1]) + u\n",
    "    \n",
    "    return y,X \n"
   ]
  },
  {
   "cell_type": "markdown",
   "metadata": {},
   "source": [
    "## e\n",
    "Linear IV model  \n",
    "y = $\\alpha$ + X$\\beta$ + u   \n",
    "$\\mbox{E}(Z^{T}u$) = $\\mbox{E}u$ = 0  \n",
    "$ \\mbox{E}(Z^{T} X)$ = Q  \n",
    "\n",
    "We need to describe processes that generate $(X,Z,u)$.\n",
    "\n",
    "The following code block defines the important parameters governing\n",
    "the DGP; this is the &ldquo;TRUTH&rdquo; we&rsquo;re designing tools to reveal.  \n",
    "\n"
   ]
  },
  {
   "cell_type": "code",
   "execution_count": 5,
   "metadata": {},
   "outputs": [],
   "source": [
    "# DGP we looked at in class \n",
    "\n",
    "beta = 1     # \"Coefficient of interest\" \n",
    "gamma = 1    # Governs effect of u on X\n",
    "sigma_u = 1  # Note assumption of homoskedasticity \n",
    "\n",
    "# Let Z have order ell, and X order 1, with Var([X,Z]|u)=VXZ\n",
    "# ell = order of Z \n",
    "ell = 4\n",
    "\n",
    "# Arbitrary (but deterministic) choice for VXZ = [VX Cov(X,Z);\n",
    "#                                                 Cov(Z,X) VZ]\n",
    "# Pinned down by choice of a matrix A...\n",
    "A = np.sqrt(1/np.arange(1,(ell+1)**2+1)).reshape((ell+1,ell+1)) \n",
    "\n",
    "# Now Var([X,Z]|u) is constructed so guaranteed pos. def.\n",
    "VXZ = A.T@A \n",
    "\n",
    "Q = -VXZ[1:,[0]]  # -EZX', or generally Edgj/db'\n",
    "\n",
    "truth = (beta,gamma,sigma_u,VXZ)\n",
    "Omega = (sigma_u**2)*VXZ[1:,1:] # E(Zu)(u'Z')\n",
    "AVar_b = inv(Q.T@inv(Omega)@Q)\n",
    "\n",
    "\n",
    "Omega\n",
    "\n",
    "from scipy.stats import distributions as iid\n",
    "\n",
    "def dgp(N,beta,gamma,sigma_u,VXZ):\n",
    "    \"\"\"Generate a tuple of (y,X,Z).\n",
    "\n",
    "    Satisfies model:\n",
    "        y = X@beta + u\n",
    "        E Z'u = 0\n",
    "        Var(u) = sigma^2\n",
    "        Cov(X,u) = gamma*sigma_u^2\n",
    "        Var([X,Z]|u) = VXZ\n",
    "        u,X,Z mean zero, Gaussian\n",
    "\n",
    "    Each element of the tuple is an array of N observations.\n",
    "\n",
    "    Inputs include\n",
    "    - beta :: the coefficient of interest\n",
    "    - gamma :: linear effect of disturbance on X\n",
    "    - sigma_u :: Variance of disturbance\n",
    "    - VXZ :: Var([X,Z]|u)\n",
    "    \"\"\"\n",
    "    \n",
    "    u = iid.norm.rvs(size=(N,1))*sigma_u\n",
    "\n",
    "    # \"Square root\" of VXZ via eigendecomposition\n",
    "    lbda,v = np.linalg.eig(VXZ)\n",
    "    SXZ = v@np.diag(np.sqrt(lbda))\n",
    "\n",
    "    # Generate normal random variates [X*,Z]\n",
    "    XZ = iid.norm.rvs(size=(N,VXZ.shape[0]))@SXZ.T\n",
    "\n",
    "    # But X is endogenous...\n",
    "    X = XZ[:,[0]] + gamma*u\n",
    "    Z = XZ[:,1:]\n",
    "\n",
    "    # Calculate y\n",
    "    y = X*beta + u\n",
    "\n",
    "    return y,X,Z\n"
   ]
  },
  {
   "cell_type": "markdown",
   "metadata": {},
   "source": [
    "## 1f\n",
    "\n",
    "$y=f(X,b) + u $; with $f$ a known scalar function and with $E(Z^{T}u)=Eu=0$ and $E(Z^{T}Xf'(X\\beta)=Q(\\beta)$"
   ]
  },
  {
   "cell_type": "markdown",
   "metadata": {},
   "source": [
    "Please refer to 1g as it is the same model as 1f, just more complex as f is a function and in 1f it is a scalar."
   ]
  },
  {
   "cell_type": "markdown",
   "metadata": {},
   "source": [
    "## 1g \n",
    "\n",
    "$y=f(X,b) + u $; with $f$ a known  function and with $E(Z^{T}u)=Eu=0$ and $E(Z^{T}X(\\frac{\\partial f}{\\partial \\beta^{T}}))=Q(\\beta)$\n",
    "\n",
    "For this example, we consider a model we looked at in class, in which f is a known function. "
   ]
  },
  {
   "cell_type": "markdown",
   "metadata": {},
   "source": [
    "$$y_i = exp\\{X_i\\beta\\} + e_i$$\n",
    "\n",
    "$$ E(z_i'e_i) = 0$$\n",
    "$$g_j(\\beta) = E(z_i'e_i) = E(z_i'(y_i - exp\\{X_i\\beta\\})) = 0$$"
   ]
  },
  {
   "cell_type": "code",
   "execution_count": 6,
   "metadata": {},
   "outputs": [],
   "source": [
    "def dgp(N, true_beta, cov_ze=0):\n",
    "    # define covariance mat of XEZ:\n",
    "    cov_XEZZ = np.array(\n",
    "        [[4, 1, 1, 2],\n",
    "        [1, 2, cov_ze, cov_ze*0.5],\n",
    "        [1, cov_ze, 3, 0.2],\n",
    "        [2, cov_ze*.5, 0.2, 8]])*0.1\n",
    "    \n",
    "    XEZZ = iid.multivariate_normal(mean=[.2, 0, 0, 0],\n",
    "                                   cov=cov_XEZZ).rvs(size = N)\n",
    "    \n",
    "    X = XEZZ[:, [0]]\n",
    "    \n",
    "    e = XEZZ[:, [1]]\n",
    "    \n",
    "    Z = XEZZ[:, 2:]\n",
    "    \n",
    "    y = np.exp(true_beta[0] + X*(true_beta[1])) + e\n",
    "    X = np.c_[np.ones(shape = (N,1)), X] # add intercept\n",
    "    Z = np.c_[np.ones(shape = (N,1)), Z]\n",
    "    \n",
    "    return (y, X, Z)"
   ]
  },
  {
   "cell_type": "markdown",
   "metadata": {},
   "source": [
    "## 1h \n",
    "$ y^{\\gamma} = \\alpha + u$, with $y$ >0 and $\\gamma$ a scalar, and $E(Z^{T}u)=Eu=0$ and $EZ^{T}$ $\\begin{pmatrix}\n",
    "                          \\gamma y ^{\\gamma-1} \\\\ \n",
    "                          -1\n",
    "                        \\end{pmatrix}$  = $Q(\\gamma)$\n",
    "                        "
   ]
  },
  {
   "cell_type": "code",
   "execution_count": 7,
   "metadata": {},
   "outputs": [],
   "source": [
    "def dgp_h(true_beta, N):\n",
    "    \n",
    "    alpha = 4 \n",
    "    gamma = 2\n",
    "    beta = np.array(beta).reshape(-1,1)\n",
    "    k=beta.shape[0]\n",
    "    N= 1000\n",
    "    \n",
    "    # E(u)=0 \n",
    "    # E(Z^{T}u)=0 \n",
    "    u = iid.norm.rvs(size=(N,1))\n",
    "    Z = iid.norm.rvs(size=(N,k))\n",
    "    \n",
    "    y = (alpha + u)^(1/gamma) \n",
    "    \n",
    "    return y,Z\n"
   ]
  }
 ],
 "metadata": {
  "kernelspec": {
   "display_name": "Python 3",
   "language": "python",
   "name": "python3"
  },
  "language_info": {
   "codemirror_mode": {
    "name": "ipython",
    "version": 3
   },
   "file_extension": ".py",
   "mimetype": "text/x-python",
   "name": "python",
   "nbconvert_exporter": "python",
   "pygments_lexer": "ipython3",
   "version": "3.8.3"
  }
 },
 "nbformat": 4,
 "nbformat_minor": 5
}
