{
 "cells": [
  {
   "cell_type": "code",
   "execution_count": 42,
   "id": "b67ea153",
   "metadata": {},
   "outputs": [],
   "source": [
    "%matplotlib inline\n",
    "import numpy as np\n",
    "from scipy.stats import multivariate_normal\n",
    "\n",
    "\n",
    "k = 3 # Number of observables \n",
    "\n",
    "mu = [0]*k\n",
    "Sigma=[[1,0.5,0],\n",
    "       [0.5,2,0],\n",
    "       [0,0,3]]\n",
    "\n",
    "T = multivariate_normal(mu,Sigma) \n",
    "\n",
    "u = multivariate_normal(cov=0.2) "
   ]
  },
  {
   "cell_type": "code",
   "execution_count": 43,
   "id": "cb3db8fe",
   "metadata": {},
   "outputs": [],
   "source": [
    "beta = [1/2,1] # list of (1,2) and (1)\n",
    "\n",
    "D = np.random.random(size=(3,2)) # Generate random 3x2 matrix\n",
    "\n",
    "N=1000 # Sample size\n",
    "\n",
    "# Now: Transform rvs into a sample\n",
    "T = T.rvs(N) # sample of N draws\n",
    "\n",
    "u = u.rvs(N) # Replace u with a sample\n",
    "\n",
    "X = (T**3)@D  # Note use of ** operator for exponentiation\n",
    "\n",
    "y = X@beta + u # Note use of @ operator for matrix multiplication"
   ]
  },
  {
   "cell_type": "code",
   "execution_count": 40,
   "id": "381af50e",
   "metadata": {},
   "outputs": [
    {
     "name": "stdout",
     "output_type": "stream",
     "text": [
      "[0.50006212 1.00060333]\n",
      "[[ 4.32976958e-04 -1.63770872e-04]\n",
      " [-1.63770872e-04  6.51337626e-05]]\n"
     ]
    },
    {
     "name": "stderr",
     "output_type": "stream",
     "text": [
      "/tmp/ipykernel_30/448000770.py:4: FutureWarning: `rcond` parameter will change to the default of machine precision times ``max(M, N)`` where M and N are the input matrix dimensions.\n",
      "To use the future default and silence this warning we advise to pass `rcond=None`, to keep using the old, explicitly pass `rcond=-1`.\n",
      "  b = np.linalg.lstsq(T.T@X,T.T@y)[0] # lstsqs returns several results\n"
     ]
    }
   ],
   "source": [
    "from scipy.linalg import inv, sqrtm\n",
    "\n",
    "# we solve for b where T.T@X@b = T.T@y\n",
    "b = np.linalg.lstsq(T.T@X,T.T@y)[0] # lstsqs returns several results\n",
    "# np.linalg.lstsq: Returns least-square sol'n for linear matrix eq\n",
    "\n",
    "e = y - X@b\n",
    "\n",
    "print(b)\n",
    "\n",
    "TXplus = np.linalg.pinv(T.T@X) # Moore-Penrose pseudo-inverse\n",
    "\n",
    "# Covariance matrix of b\n",
    "vb = e.var()*TXplus@T.T@T@TXplus.T  # u is known to be homoskedastic\n",
    "\n",
    "print(vb)"
   ]
  },
  {
   "cell_type": "code",
   "execution_count": null,
   "id": "1a0affaa",
   "metadata": {},
   "outputs": [],
   "source": []
  },
  {
   "cell_type": "code",
   "execution_count": 45,
   "id": "74a74186",
   "metadata": {},
   "outputs": [
    {
     "name": "stdout",
     "output_type": "stream",
     "text": [
      "Sigma [[1, 0.5, 0], [0.5, 2, 0], [0, 0, 3]]\n",
      "(3, 3)\n",
      "[-1.721916    1.02741119  3.89706085]\n",
      "[-1.721916    1.02741119  3.89706085]\n"
     ]
    },
    {
     "name": "stderr",
     "output_type": "stream",
     "text": [
      "/tmp/ipykernel_30/1928341346.py:26: FutureWarning: `rcond` parameter will change to the default of machine precision times ``max(M, N)`` where M and N are the input matrix dimensions.\n",
      "To use the future default and silence this warning we advise to pass `rcond=None`, to keep using the old, explicitly pass `rcond=-1`.\n",
      "  b_3 = np.linalg.lstsq(first,second)[0]\n"
     ]
    }
   ],
   "source": [
    "# Task: Extend the code in weighted_regression.ipynb to actually estimate β in the case with k = 3.\n",
    "# To solve for b, we had T'y = T'Xb + T'u with the assumption that E(T'u)=0\n",
    "# We know that X=T^3*D\n",
    "# Then to solve for b, we have T'y = T'T^{3}Db\n",
    "\n",
    "k=3 \n",
    "print(\"Sigma\", Sigma)\n",
    "print(np.shape(Sigma))\n",
    "\n",
    "\n",
    "\n",
    "T_cube = T**3 \n",
    "# print(T_cube)\n",
    "# b = (T'T^{3}D)^-1 * (T'y)\n",
    "D = np.random.random(size=(3,3)) # D is a l x k matrix, so now the size needs to change from before  (it was 3x2 above)\n",
    "\n",
    "first = (T.T@T_cube@D)\n",
    "second = T.T@y\n",
    "\n",
    "\n",
    "b_k3= np.linalg.inv(first)@second\n",
    "\n",
    "print(b_k3)\n",
    "\n",
    "# Can check with another way to estimate b: \n",
    "b_3 = np.linalg.lstsq(first,second)[0] \n",
    "print(b_k3)"
   ]
  },
  {
   "cell_type": "code",
   "execution_count": null,
   "id": "b4911d80",
   "metadata": {},
   "outputs": [],
   "source": []
  }
 ],
 "metadata": {
  "kernelspec": {
   "display_name": "Python 3 (ipykernel)",
   "language": "python",
   "name": "python3"
  },
  "language_info": {
   "codemirror_mode": {
    "name": "ipython",
    "version": 3
   },
   "file_extension": ".py",
   "mimetype": "text/x-python",
   "name": "python",
   "nbconvert_exporter": "python",
   "pygments_lexer": "ipython3",
   "version": "3.9.15"
  }
 },
 "nbformat": 4,
 "nbformat_minor": 5
}
